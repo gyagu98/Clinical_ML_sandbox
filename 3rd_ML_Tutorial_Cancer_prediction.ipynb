{
 "cells": [
  {
   "cell_type": "code",
   "execution_count": 1,
   "id": "c9db9b35-ed5c-45d5-be06-83650f42debb",
   "metadata": {},
   "outputs": [
    {
     "data": {
      "application/javascript": [
       "IPython.notebook.set_autosave_interval(10000)"
      ]
     },
     "metadata": {},
     "output_type": "display_data"
    },
    {
     "name": "stdout",
     "output_type": "stream",
     "text": [
      "Autosaving every 10 seconds\n"
     ]
    }
   ],
   "source": [
    "%autosave 10"
   ]
  },
  {
   "cell_type": "code",
   "execution_count": null,
   "id": "f6465f3c-ad90-4964-9ed6-6865f39f6a75",
   "metadata": {},
   "outputs": [],
   "source": [
    "#Testing the autosave function"
   ]
  },
  {
   "cell_type": "code",
   "execution_count": 3,
   "id": "4880b8bd-2261-4b65-87cc-260af257a63c",
   "metadata": {},
   "outputs": [],
   "source": [
    "#Now this is testing the automatic github pushing, is this working?"
   ]
  },
  {
   "cell_type": "code",
   "execution_count": null,
   "id": "3560748a-cb46-4358-a532-b9c256900515",
   "metadata": {},
   "outputs": [],
   "source": []
  }
 ],
 "metadata": {
  "kernelspec": {
   "display_name": "Python 3 (ipykernel)",
   "language": "python",
   "name": "python3"
  },
  "language_info": {
   "codemirror_mode": {
    "name": "ipython",
    "version": 3
   },
   "file_extension": ".py",
   "mimetype": "text/x-python",
   "name": "python",
   "nbconvert_exporter": "python",
   "pygments_lexer": "ipython3",
   "version": "3.12.4"
  }
 },
 "nbformat": 4,
 "nbformat_minor": 5
}
