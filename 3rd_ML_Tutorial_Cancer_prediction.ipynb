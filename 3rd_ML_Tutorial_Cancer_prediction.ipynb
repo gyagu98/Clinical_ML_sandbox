{
 "cells": [
  {
   "cell_type": "code",
   "execution_count": 1,
   "id": "c9db9b35-ed5c-45d5-be06-83650f42debb",
   "metadata": {},
   "outputs": [
    {
     "data": {
      "application/javascript": [
       "IPython.notebook.set_autosave_interval(10000)"
      ]
     },
     "metadata": {},
     "output_type": "display_data"
    },
    {
     "name": "stdout",
     "output_type": "stream",
     "text": [
      "Autosaving every 10 seconds\n"
     ]
    }
   ],
   "source": [
    "%autosave 10"
   ]
  },
  {
   "cell_type": "code",
   "execution_count": 3,
   "id": "f6465f3c-ad90-4964-9ed6-6865f39f6a75",
   "metadata": {},
   "outputs": [],
   "source": [
    "#Testing the autosave function"
   ]
  },
  {
   "cell_type": "code",
   "execution_count": 5,
   "id": "4880b8bd-2261-4b65-87cc-260af257a63c",
   "metadata": {},
   "outputs": [],
   "source": [
    "#Now this is testing the automatic github pushing, is this working?"
   ]
  },
  {
   "cell_type": "code",
   "execution_count": 7,
   "id": "3560748a-cb46-4358-a532-b9c256900515",
   "metadata": {},
   "outputs": [],
   "source": [
    "#Yes it is! Yay!"
   ]
  },
  {
   "cell_type": "code",
   "execution_count": 9,
   "id": "6537dce7-1b5f-4c48-b4e5-7c2a98f42e60",
   "metadata": {},
   "outputs": [],
   "source": [
    "#Restarted the kernel, does it work now?"
   ]
  },
  {
   "cell_type": "code",
   "execution_count": null,
   "id": "1f9c394d-a180-423e-be63-4f430877cc52",
   "metadata": {},
   "outputs": [],
   "source": [
    "#It does, into bash, you have to type the following: \"python auto_commit.py\""
   ]
  },
  {
   "cell_type": "markdown",
   "id": "96adc750-73b4-4bfe-aa92-e46fa728c2be",
   "metadata": {},
   "source": [
    "### Continuing ML Tutorials and learning how to autosave on Github"
   ]
  },
  {
   "cell_type": "markdown",
   "id": "b453b5c8-7230-4a22-ac68-af9e11e3967d",
   "metadata": {},
   "source": [
    "### (That is what the above functions are showing)"
   ]
  },
  {
   "cell_type": "markdown",
   "id": "f760aaee-2814-4f63-810a-9db8f529c27a",
   "metadata": {},
   "source": [
    "# Now, we will do Neural Network for Cancer Prediction"
   ]
  },
  {
   "cell_type": "markdown",
   "id": "71e97c52-7b96-49e1-909a-c551683a9faa",
   "metadata": {},
   "source": [
    "## This tutorial is devised from Vappiah's Bioinformatics Projects for learning ML"
   ]
  },
  {
   "cell_type": "markdown",
   "id": "59babe6d-86ae-402f-b122-a6410106e65b",
   "metadata": {},
   "source": [
    "### We will use RNA-seq data that was processed for differential gene expression in cancer types. The data we use is from https://archive.ics.uci.edu/ml/datasets/gene+expression+cancer+RNA-Seq and will be a tabular data set"
   ]
  },
  {
   "cell_type": "markdown",
   "id": "1ea5579b-e6e1-4b5a-9e89-b3285c41cb8d",
   "metadata": {},
   "source": [
    "### The rows are cancer samples and the columns and gene counts, the last column is cancer categories"
   ]
  },
  {
   "cell_type": "code",
   "execution_count": 18,
   "id": "51bf04f6-c575-4e95-a6c4-0ad545e2d331",
   "metadata": {},
   "outputs": [],
   "source": [
    "#We need the following libraries: \n",
    "#For data handling\n",
    "import pandas as pd\n",
    "import numpy as np\n",
    "#"
   ]
  },
  {
   "cell_type": "code",
   "execution_count": null,
   "id": "dbd942a2-1db6-436f-b439-a4625014bac2",
   "metadata": {},
   "outputs": [],
   "source": []
  },
  {
   "cell_type": "code",
   "execution_count": null,
   "id": "e91f66e2-4348-444c-a0cc-9b3c83d18849",
   "metadata": {},
   "outputs": [],
   "source": []
  },
  {
   "cell_type": "code",
   "execution_count": null,
   "id": "3dca76b2-c9d4-4388-a318-e27447a16c14",
   "metadata": {},
   "outputs": [],
   "source": []
  },
  {
   "cell_type": "code",
   "execution_count": null,
   "id": "861d1714-80db-491c-ab92-497a0992994f",
   "metadata": {},
   "outputs": [],
   "source": []
  },
  {
   "cell_type": "code",
   "execution_count": null,
   "id": "cf61d801-ee44-4797-bb5d-ae6828f7ba9f",
   "metadata": {},
   "outputs": [],
   "source": []
  },
  {
   "cell_type": "code",
   "execution_count": null,
   "id": "f23fff35-fbe9-47b9-ab73-7e3d51dd842f",
   "metadata": {},
   "outputs": [],
   "source": []
  },
  {
   "cell_type": "code",
   "execution_count": null,
   "id": "bc3c930d-d9a1-4e6f-9a76-29fea5519462",
   "metadata": {},
   "outputs": [],
   "source": []
  },
  {
   "cell_type": "code",
   "execution_count": null,
   "id": "7a9af4a1-f2d1-4469-a927-ad688c392561",
   "metadata": {},
   "outputs": [],
   "source": []
  },
  {
   "cell_type": "code",
   "execution_count": null,
   "id": "65e9290d-d6bb-45f1-ad12-4cdc004fa6c2",
   "metadata": {},
   "outputs": [],
   "source": []
  },
  {
   "cell_type": "code",
   "execution_count": null,
   "id": "d9055927-dfde-450c-a29d-344f49d9904b",
   "metadata": {},
   "outputs": [],
   "source": []
  },
  {
   "cell_type": "code",
   "execution_count": null,
   "id": "5d442bee-9624-4fee-9d0d-654d07956b67",
   "metadata": {},
   "outputs": [],
   "source": []
  },
  {
   "cell_type": "code",
   "execution_count": null,
   "id": "54930c1f-cbd6-40b9-b661-2b4b25260995",
   "metadata": {},
   "outputs": [],
   "source": []
  },
  {
   "cell_type": "code",
   "execution_count": null,
   "id": "4b5ca92b-32bc-4e84-a6cd-2aca66dc7a57",
   "metadata": {},
   "outputs": [],
   "source": []
  },
  {
   "cell_type": "code",
   "execution_count": null,
   "id": "44a59173-1743-4666-af9b-16cebfbcea77",
   "metadata": {},
   "outputs": [],
   "source": []
  }
 ],
 "metadata": {
  "kernelspec": {
   "display_name": "Python 3 (ipykernel)",
   "language": "python",
   "name": "python3"
  },
  "language_info": {
   "codemirror_mode": {
    "name": "ipython",
    "version": 3
   },
   "file_extension": ".py",
   "mimetype": "text/x-python",
   "name": "python",
   "nbconvert_exporter": "python",
   "pygments_lexer": "ipython3",
   "version": "3.12.4"
  }
 },
 "nbformat": 4,
 "nbformat_minor": 5
}
