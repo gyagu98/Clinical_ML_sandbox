{
 "cells": [
  {
   "cell_type": "code",
   "execution_count": 1,
   "id": "c9db9b35-ed5c-45d5-be06-83650f42debb",
   "metadata": {},
   "outputs": [
    {
     "data": {
      "application/javascript": [
       "IPython.notebook.set_autosave_interval(10000)"
      ]
     },
     "metadata": {},
     "output_type": "display_data"
    },
    {
     "name": "stdout",
     "output_type": "stream",
     "text": [
      "Autosaving every 10 seconds\n"
     ]
    }
   ],
   "source": [
    "%autosave 10"
   ]
  },
  {
   "cell_type": "code",
   "execution_count": null,
   "id": "f6465f3c-ad90-4964-9ed6-6865f39f6a75",
   "metadata": {},
   "outputs": [],
   "source": [
    "#Testing the autosave function"
   ]
  },
  {
   "cell_type": "code",
   "execution_count": 3,
   "id": "4880b8bd-2261-4b65-87cc-260af257a63c",
   "metadata": {},
   "outputs": [],
   "source": [
    "#Now this is testing the automatic github pushing, is this working?"
   ]
  },
  {
   "cell_type": "code",
   "execution_count": null,
   "id": "3560748a-cb46-4358-a532-b9c256900515",
   "metadata": {},
   "outputs": [],
   "source": [
    "#Yes it is! Yay!"
   ]
  },
  {
   "cell_type": "markdown",
   "id": "96adc750-73b4-4bfe-aa92-e46fa728c2be",
   "metadata": {},
   "source": [
    "# Continuing ML Tutorials and learning how to autosave on Github"
   ]
  },
  {
   "cell_type": "markdown",
   "id": "b453b5c8-7230-4a22-ac68-af9e11e3967d",
   "metadata": {},
   "source": [
    "## (That is what the above functions are showing)"
   ]
  },
  {
   "cell_type": "code",
   "execution_count": null,
   "id": "cd817a57-62c0-4a4e-b6e7-fbf81f15fbf4",
   "metadata": {},
   "outputs": [],
   "source": []
  },
  {
   "cell_type": "code",
   "execution_count": null,
   "id": "d9055927-dfde-450c-a29d-344f49d9904b",
   "metadata": {},
   "outputs": [],
   "source": []
  },
  {
   "cell_type": "code",
   "execution_count": null,
   "id": "5d442bee-9624-4fee-9d0d-654d07956b67",
   "metadata": {},
   "outputs": [],
   "source": []
  },
  {
   "cell_type": "code",
   "execution_count": null,
   "id": "54930c1f-cbd6-40b9-b661-2b4b25260995",
   "metadata": {},
   "outputs": [],
   "source": []
  },
  {
   "cell_type": "code",
   "execution_count": null,
   "id": "4b5ca92b-32bc-4e84-a6cd-2aca66dc7a57",
   "metadata": {},
   "outputs": [],
   "source": []
  },
  {
   "cell_type": "code",
   "execution_count": null,
   "id": "44a59173-1743-4666-af9b-16cebfbcea77",
   "metadata": {},
   "outputs": [],
   "source": []
  }
 ],
 "metadata": {
  "kernelspec": {
   "display_name": "Python 3 (ipykernel)",
   "language": "python",
   "name": "python3"
  },
  "language_info": {
   "codemirror_mode": {
    "name": "ipython",
    "version": 3
   },
   "file_extension": ".py",
   "mimetype": "text/x-python",
   "name": "python",
   "nbconvert_exporter": "python",
   "pygments_lexer": "ipython3",
   "version": "3.12.4"
  }
 },
 "nbformat": 4,
 "nbformat_minor": 5
}
