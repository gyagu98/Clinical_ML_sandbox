{
 "cells": [
  {
   "cell_type": "code",
   "execution_count": 1,
   "id": "c9db9b35-ed5c-45d5-be06-83650f42debb",
   "metadata": {},
   "outputs": [
    {
     "data": {
      "application/javascript": [
       "IPython.notebook.set_autosave_interval(10000)"
      ]
     },
     "metadata": {},
     "output_type": "display_data"
    },
    {
     "name": "stdout",
     "output_type": "stream",
     "text": [
      "Autosaving every 10 seconds\n"
     ]
    }
   ],
   "source": [
    "%autosave 10"
   ]
  },
  {
   "cell_type": "code",
   "execution_count": 3,
   "id": "f6465f3c-ad90-4964-9ed6-6865f39f6a75",
   "metadata": {},
   "outputs": [],
   "source": [
    "#Testing the autosave function"
   ]
  },
  {
   "cell_type": "code",
   "execution_count": 5,
   "id": "4880b8bd-2261-4b65-87cc-260af257a63c",
   "metadata": {},
   "outputs": [],
   "source": [
    "#Now this is testing the automatic github pushing, is this working?"
   ]
  },
  {
   "cell_type": "code",
   "execution_count": 7,
   "id": "3560748a-cb46-4358-a532-b9c256900515",
   "metadata": {},
   "outputs": [],
   "source": [
    "#Yes it is! Yay!"
   ]
  },
  {
   "cell_type": "code",
   "execution_count": 9,
   "id": "6537dce7-1b5f-4c48-b4e5-7c2a98f42e60",
   "metadata": {},
   "outputs": [],
   "source": [
    "#Restarted the kernel, does it work now?"
   ]
  },
  {
   "cell_type": "code",
   "execution_count": null,
   "id": "1f9c394d-a180-423e-be63-4f430877cc52",
   "metadata": {},
   "outputs": [],
   "source": [
    "#It does, into bash, you have to type the following: \"python auto_commit.py\""
   ]
  },
  {
   "cell_type": "markdown",
   "id": "96adc750-73b4-4bfe-aa92-e46fa728c2be",
   "metadata": {},
   "source": [
    "### Continuing ML Tutorials and learning how to autosave on Github"
   ]
  },
  {
   "cell_type": "markdown",
   "id": "b453b5c8-7230-4a22-ac68-af9e11e3967d",
   "metadata": {},
   "source": [
    "### (That is what the above functions are showing)"
   ]
  },
  {
   "cell_type": "markdown",
   "id": "f760aaee-2814-4f63-810a-9db8f529c27a",
   "metadata": {},
   "source": [
    "# Now, we will do Neural Network for Cancer Prediction"
   ]
  },
  {
   "cell_type": "markdown",
   "id": "71e97c52-7b96-49e1-909a-c551683a9faa",
   "metadata": {},
   "source": [
    "## This tutorial is devised from Vappiah's Bioinformatics Projects for learning ML"
   ]
  },
  {
   "cell_type": "markdown",
   "id": "59babe6d-86ae-402f-b122-a6410106e65b",
   "metadata": {},
   "source": [
    "### We will use RNA-seq data that was processed for differential gene expression in cancer types. The data we use is from https://archive.ics.uci.edu/ml/datasets/gene+expression+cancer+RNA-Seq and will be a tabular data set"
   ]
  },
  {
   "cell_type": "markdown",
   "id": "1ea5579b-e6e1-4b5a-9e89-b3285c41cb8d",
   "metadata": {},
   "source": [
    "### The rows are cancer samples and the columns and gene counts, the last column is cancer categories"
   ]
  },
  {
   "cell_type": "code",
   "execution_count": 28,
   "id": "51bf04f6-c575-4e95-a6c4-0ad545e2d331",
   "metadata": {},
   "outputs": [],
   "source": [
    "#We need the following libraries\n",
    "import pandas as pd\n",
    "import numpy as np"
   ]
  },
  {
   "cell_type": "code",
   "execution_count": 32,
   "id": "dbd942a2-1db6-436f-b439-a4625014bac2",
   "metadata": {},
   "outputs": [],
   "source": [
    "#data visualization\n",
    "import matplotlib.pyplot as plt\n",
    "import seaborn as sns"
   ]
  },
  {
   "cell_type": "code",
   "execution_count": 34,
   "id": "e91f66e2-4348-444c-a0cc-9b3c83d18849",
   "metadata": {},
   "outputs": [],
   "source": [
    "#Preprocessing the data before ML\n",
    "from sklearn.model_selection import train_test_split\n",
    "from sklearn.preprocessing import LabelEncoder\n",
    "from sklearn.preprocessing import MinMaxScaler"
   ]
  },
  {
   "cell_type": "code",
   "execution_count": 38,
   "id": "3dca76b2-c9d4-4388-a318-e27447a16c14",
   "metadata": {},
   "outputs": [],
   "source": [
    "#For classification of the ML model\n",
    "import tensorflow as tf\n",
    "from tensorflow import keras\n",
    "from keras.models import Sequential\n",
    "from keras.layers import Dense"
   ]
  },
  {
   "cell_type": "code",
   "execution_count": 44,
   "id": "f23fff35-fbe9-47b9-ab73-7e3d51dd842f",
   "metadata": {},
   "outputs": [],
   "source": [
    "#Let's read our data! (here, we use it from a github repo)\n",
    "file_url='https://github.com/vappiah/Machine-Learning-Tutorials/raw/main/data/cancer_gene_expression.zip'\n",
    "dataframe=pd.read_csv(file_url)"
   ]
  },
  {
   "cell_type": "code",
   "execution_count": null,
   "id": "861d1714-80db-491c-ab92-497a0992994f",
   "metadata": {},
   "outputs": [],
   "source": [
    "#Now, let's explore the data we will study and clean it"
   ]
  },
  {
   "cell_type": "code",
   "execution_count": 45,
   "id": "cf61d801-ee44-4797-bb5d-ae6828f7ba9f",
   "metadata": {},
   "outputs": [
    {
     "name": "stdout",
     "output_type": "stream",
     "text": [
      "(801, 8001)\n"
     ]
    }
   ],
   "source": [
    "print(dataframe.shape)"
   ]
  },
  {
   "cell_type": "code",
   "execution_count": 48,
   "id": "a3626c20-9e8d-40ad-ada9-580cdb51e2ba",
   "metadata": {},
   "outputs": [
    {
     "name": "stdout",
     "output_type": "stream",
     "text": [
      "Index(['gene_1', 'gene_2', 'gene_3'], dtype='object')\n"
     ]
    }
   ],
   "source": [
    "#To check columns 1-3\n",
    "print(dataframe.columns[0:3])"
   ]
  },
  {
   "cell_type": "code",
   "execution_count": 50,
   "id": "bc3c930d-d9a1-4e6f-9a76-29fea5519462",
   "metadata": {},
   "outputs": [
    {
     "data": {
      "text/plain": [
       "'Cancer_Type'"
      ]
     },
     "execution_count": 50,
     "metadata": {},
     "output_type": "execute_result"
    }
   ],
   "source": [
    "#To check last column\n",
    "dataframe.columns[-1]"
   ]
  },
  {
   "cell_type": "code",
   "execution_count": 52,
   "id": "7a9af4a1-f2d1-4469-a927-ad688c392561",
   "metadata": {},
   "outputs": [
    {
     "name": "stdout",
     "output_type": "stream",
     "text": [
      "columns with missing values:0\n"
     ]
    }
   ],
   "source": [
    "#What data is missing?\n",
    "datanul=dataframe.isnull().sum()\n",
    "g=[i for i in datanul if i>0]\n",
    "\n",
    "print('columns with missing values:%d'%len(g))"
   ]
  },
  {
   "cell_type": "code",
   "execution_count": 54,
   "id": "65e9290d-d6bb-45f1-ad12-4cdc004fa6c2",
   "metadata": {},
   "outputs": [
    {
     "name": "stdout",
     "output_type": "stream",
     "text": [
      "Cancer_Type\n",
      "BRCA    300\n",
      "KIRC    146\n",
      "LUAD    141\n",
      "PRAD    136\n",
      "COAD     78\n",
      "Name: count, dtype: int64\n"
     ]
    }
   ],
   "source": [
    "#How many cancer types, or in our purposes, classes?\n",
    "print(dataframe['Cancer_Type'].value_counts())"
   ]
  },
  {
   "cell_type": "code",
   "execution_count": 58,
   "id": "d9055927-dfde-450c-a29d-344f49d9904b",
   "metadata": {},
   "outputs": [],
   "source": [
    "#Preprocess data \n",
    "X=dataframe.iloc[:,0:-1]\n",
    "y=dataframe.iloc[:,-1]"
   ]
  },
  {
   "cell_type": "code",
   "execution_count": 62,
   "id": "5d442bee-9624-4fee-9d0d-654d07956b67",
   "metadata": {},
   "outputs": [],
   "source": [
    "#Encoding labels\n",
    "label_encoder=LabelEncoder()\n",
    "label_encoder.fit(y)\n",
    "y=label_encoder.transform(y)\n",
    "labels=label_encoder.classes_\n",
    "classes=np.unique(y)\n",
    "nclasses=np.unique(y).shape[0]"
   ]
  },
  {
   "cell_type": "code",
   "execution_count": null,
   "id": "54930c1f-cbd6-40b9-b661-2b4b25260995",
   "metadata": {},
   "outputs": [],
   "source": [
    "#Split data into three sections: training, validation, and test sets"
   ]
  },
  {
   "cell_type": "code",
   "execution_count": 68,
   "id": "4b5ca92b-32bc-4e84-a6cd-2aca66dc7a57",
   "metadata": {},
   "outputs": [],
   "source": [
    "#For training and test sets: for training and testing the model after training and fine tuning\n",
    "X_train,X_test,y_train,y_test=train_test_split(X,y,test_size=0.2)"
   ]
  },
  {
   "cell_type": "code",
   "execution_count": null,
   "id": "4b5b4dad-2017-4520-ad7c-7d2f978fcc11",
   "metadata": {},
   "outputs": [],
   "source": [
    "#training and validation sets for training and evalutating the model during training"
   ]
  },
  {
   "cell_type": "code",
   "execution_count": 66,
   "id": "c00cf595-3b81-44c8-a3de-ff8d84cad086",
   "metadata": {},
   "outputs": [],
   "source": [
    "X_train, X_val, y_train, y_val = train_test_split(X_train,y_train,test_size=0.2)"
   ]
  },
  {
   "cell_type": "code",
   "execution_count": null,
   "id": "dc868694-a0f4-44b9-bb9e-a5bbe36931f8",
   "metadata": {},
   "outputs": [],
   "source": [
    "#Need to scale my data and normalize it to make sure all our values are in the same range\n",
    "#To improve model performance avoid bias"
   ]
  },
  {
   "cell_type": "code",
   "execution_count": 70,
   "id": "f786a33c-cc3d-4b1d-8135-7d72099442c7",
   "metadata": {},
   "outputs": [],
   "source": [
    "# We will do it separately on each data set to prevent data leaking\n",
    "min_max_scaler=MinMaxScaler()\n",
    "X_train=min_max_scaler.fit_transform(X_train)\n",
    "X_val=min_max_scaler.fit_transform(X_val)\n",
    "X_test=min_max_scaler.fit_transform(X_test)"
   ]
  },
  {
   "cell_type": "code",
   "execution_count": null,
   "id": "bbb58b8b-a2b1-4893-8be0-6a01fb60e571",
   "metadata": {},
   "outputs": [],
   "source": [
    "#Now, we build the neural network model, a ML model with interconnected nodes to mimic a human brain"
   ]
  },
  {
   "cell_type": "code",
   "execution_count": null,
   "id": "4e228cbf-9ec1-4862-bcbb-f66709f6f38c",
   "metadata": {},
   "outputs": [],
   "source": [
    "from keras.models import Sequential\n",
    "from keras.layers import Dense"
   ]
  },
  {
   "cell_type": "code",
   "execution_count": 84,
   "id": "7d7ef854-d42e-4ef4-82ff-e985abf75ea3",
   "metadata": {},
   "outputs": [],
   "source": [
    "#Define the model\n",
    "model = Sequential()"
   ]
  },
  {
   "cell_type": "code",
   "execution_count": 74,
   "id": "bff08cda-20bf-4fec-8bcf-39ac21942b3b",
   "metadata": {},
   "outputs": [],
   "source": [
    "#This ML model has layers, so we will add each layer"
   ]
  },
  {
   "cell_type": "code",
   "execution_count": 94,
   "id": "2aae83a4-5160-49f7-93c6-ef5b3fb4c744",
   "metadata": {},
   "outputs": [
    {
     "name": "stderr",
     "output_type": "stream",
     "text": [
      "/opt/anaconda3/lib/python3.12/site-packages/keras/src/layers/core/dense.py:87: UserWarning: Do not pass an `input_shape`/`input_dim` argument to a layer. When using Sequential models, prefer using an `Input(shape)` object as the first layer in the model instead.\n",
      "  super().__init__(activity_regularizer=activity_regularizer, **kwargs)\n"
     ]
    }
   ],
   "source": [
    "#Hidden layer 1\n",
    "model.add(Dense(40, input_shape=(X_train.shape[1],), activation='relu'))"
   ]
  },
  {
   "cell_type": "code",
   "execution_count": 88,
   "id": "598bb38a-9968-4362-b26d-89a20212fa0f",
   "metadata": {},
   "outputs": [],
   "source": [
    "#hidden layer 2\n",
    "model.add(Dense(20, activation='relu'))"
   ]
  },
  {
   "cell_type": "code",
   "execution_count": 90,
   "id": "a52adb1a-0794-4951-8950-b7400bd2ba43",
   "metadata": {},
   "outputs": [],
   "source": [
    "#output layer\n",
    "model.add(Dense(nclasses, activation='softmax'))"
   ]
  },
  {
   "cell_type": "code",
   "execution_count": 92,
   "id": "c5bf6970-5979-43e4-bfec-e0fd33ace90f",
   "metadata": {},
   "outputs": [],
   "source": [
    "#define optimizer and learning rate using adam optimizer (there are others)\n",
    "opt_adam = keras.optimizers.Adam(learning_rate=0.001)\n",
    "model.compile(loss=tf.keras.losses.SparseCategoricalCrossentropy(), optimizer=opt_adam, metrics=[keras.metrics.SparseCategoricalAccuracy()])"
   ]
  },
  {
   "cell_type": "code",
   "execution_count": null,
   "id": "408e4035-51ca-4c1e-8346-4cb5cc914d55",
   "metadata": {},
   "outputs": [],
   "source": []
  },
  {
   "cell_type": "code",
   "execution_count": null,
   "id": "baf4aff3-682d-4e69-8e70-b7ad170231ae",
   "metadata": {},
   "outputs": [],
   "source": []
  },
  {
   "cell_type": "code",
   "execution_count": null,
   "id": "e4386853-d849-4349-bffd-cc7193bcd6d4",
   "metadata": {},
   "outputs": [],
   "source": []
  },
  {
   "cell_type": "code",
   "execution_count": null,
   "id": "44a59173-1743-4666-af9b-16cebfbcea77",
   "metadata": {},
   "outputs": [],
   "source": []
  }
 ],
 "metadata": {
  "kernelspec": {
   "display_name": "Python 3 (ipykernel)",
   "language": "python",
   "name": "python3"
  },
  "language_info": {
   "codemirror_mode": {
    "name": "ipython",
    "version": 3
   },
   "file_extension": ".py",
   "mimetype": "text/x-python",
   "name": "python",
   "nbconvert_exporter": "python",
   "pygments_lexer": "ipython3",
   "version": "3.12.4"
  }
 },
 "nbformat": 4,
 "nbformat_minor": 5
}
