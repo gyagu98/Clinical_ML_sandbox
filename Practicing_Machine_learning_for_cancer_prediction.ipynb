{
 "cells": [
  {
   "cell_type": "markdown",
   "id": "dbd1ba08-8c33-49f5-99d9-ae4f97f0e07e",
   "metadata": {},
   "source": [
    "# Here, I learn how to use RNA-seq gene expression data for cancer types using Vappiah's tutorial accessible on Youtube and Github"
   ]
  },
  {
   "cell_type": "markdown",
   "id": "000d8431-0531-4db1-a82b-6f57adb661b2",
   "metadata": {},
   "source": [
    "## The goal is to practice using Jupyter notebook, learn Python, and data analysis relevant for Bioinformatics"
   ]
  },
  {
   "cell_type": "markdown",
   "id": "7c25091f-a8e8-4b8e-95ce-5596fd07a2b7",
   "metadata": {},
   "source": [
    "### Notebook by G. Yagudayeva, November, 2024"
   ]
  },
  {
   "cell_type": "markdown",
   "id": "6f3a9209-a267-4d10-85c8-7a310da3afe1",
   "metadata": {},
   "source": [
    "### The original data is from: "
   ]
  },
  {
   "cell_type": "markdown",
   "id": "7b57cb54-882e-4bb7-b551-463e8a742279",
   "metadata": {},
   "source": [
    "### Required libraries are: numpy, matplotlib, seaborn, pandas, and scikit. numpy and pandas are for data handling; matplotlib and seaborn are for data visualization, and scikit are for preprocessing, feature selection, classification, and performance metrics"
   ]
  },
  {
   "cell_type": "code",
   "execution_count": null,
   "id": "354edd77-796d-4d5a-a06c-5ca49dc00dc0",
   "metadata": {},
   "outputs": [],
   "source": [
    "#Let's call these libraries"
   ]
  },
  {
   "cell_type": "code",
   "execution_count": null,
   "id": "806f358e-8ea9-40b8-9564-b6568941704a",
   "metadata": {},
   "outputs": [],
   "source": [
    "import pandas as pd\n",
    "import numpy as np\n",
    "import matplotlib.pyplot as plt\n",
    "import seaborn as sns\n",
    "from sklearn.model_selection import train_test_split\n",
    "from sklearn.preprocessing import LabelEncoder\n",
    "from sklearn.preprocessing import label_binarize\n",
    "from sklearn.preprocessing import MinMaxScaler\n",
    "from sklearn.feature_selection import mutual_info_classif\n",
    "from sklearn.multiclass import OneVsRestClassifier\n",
    "from sklearn.ensemble import RandomForestClassifier\n",
    "from sklearn.metrics import balanced_accuracy_score,f1_score,precision_score, recall_score\n",
    "from sklearn.metrics import classification_report\n",
    "from sklearn.metrics import confusion_matrix\n",
    "from sklearn.metrics import plot_confusion_matrix\n",
    "from sklearn.metrics import roc_curve,auc\n",
    "from sklearn.metrics import roc_auc_score"
   ]
  },
  {
   "cell_type": "code",
   "execution_count": null,
   "id": "bc37194f-5a4b-498d-9885-cff2c5c5eed8",
   "metadata": {},
   "outputs": [],
   "source": [
    "#Now, let's get the data we will use from a git repo using Vappiah's data for the tutorial"
   ]
  },
  {
   "cell_type": "code",
   "execution_count": 17,
   "id": "c4712a24-1a13-48f8-9dcc-9190b5146027",
   "metadata": {},
   "outputs": [],
   "source": [
    "file_url='https://github.com/vappiah/Machine-Learning-Tutorials/raw/main/datasets/cancer_gene_expression.zip'\n",
    "\n",
    "dataframe=pd.read_csv(file_url)"
   ]
  },
  {
   "cell_type": "code",
   "execution_count": null,
   "id": "5818f27d-ec32-45a6-a951-19e549993178",
   "metadata": {},
   "outputs": [],
   "source": [
    "#Let's look at the data we just got, what does it look like? Do we need to clean it?"
   ]
  },
  {
   "cell_type": "code",
   "execution_count": null,
   "id": "5f643662-6c55-4588-8e42-6a2ba318beec",
   "metadata": {},
   "outputs": [],
   "source": [
    "#We can see the number of samples and features"
   ]
  },
  {
   "cell_type": "code",
   "execution_count": 21,
   "id": "cce15465-680a-46c6-a42e-3aa70fc10ee4",
   "metadata": {},
   "outputs": [
    {
     "name": "stdout",
     "output_type": "stream",
     "text": [
      "(801, 8001)\n"
     ]
    }
   ],
   "source": [
    "print(dataframe.shape)"
   ]
  },
  {
   "cell_type": "code",
   "execution_count": null,
   "id": "2bb4a1ab-b12a-49fb-85f5-9a6c8204dc13",
   "metadata": {},
   "outputs": [],
   "source": [
    "#Now, we can see what the columns look like"
   ]
  },
  {
   "cell_type": "code",
   "execution_count": 23,
   "id": "d5748926-1c0c-445f-aa7b-57f0729f4312",
   "metadata": {},
   "outputs": [
    {
     "name": "stdout",
     "output_type": "stream",
     "text": [
      "Index(['gene_1', 'gene_2', 'gene_3'], dtype='object')\n"
     ]
    }
   ],
   "source": [
    "print(dataframe.columns[0:3])"
   ]
  },
  {
   "cell_type": "code",
   "execution_count": null,
   "id": "7ef55bda-9ada-466f-93d3-3ba8810036bc",
   "metadata": {},
   "outputs": [],
   "source": [
    "#How about the last column of this data frame?"
   ]
  },
  {
   "cell_type": "code",
   "execution_count": 25,
   "id": "2173120e-ae24-467e-a52e-7c6d2d0842fa",
   "metadata": {},
   "outputs": [
    {
     "data": {
      "text/plain": [
       "'Cancer_Type'"
      ]
     },
     "execution_count": 25,
     "metadata": {},
     "output_type": "execute_result"
    }
   ],
   "source": [
    "dataframe.columns[-1]"
   ]
  },
  {
   "cell_type": "code",
   "execution_count": null,
   "id": "0beb06e7-804c-4d7b-bb76-bed77e48d813",
   "metadata": {},
   "outputs": [],
   "source": [
    "#What values are missing?"
   ]
  },
  {
   "cell_type": "code",
   "execution_count": 27,
   "id": "f3c543f4-d7db-4a5d-a356-3029a7f62528",
   "metadata": {},
   "outputs": [
    {
     "name": "stdout",
     "output_type": "stream",
     "text": [
      "columns with missing values:0\n"
     ]
    }
   ],
   "source": [
    "datanul=dataframe.isnull().sum()\n",
    "g=[i for i in datanul if i>0]\n",
    "\n",
    "print('columns with missing values:%d'%len(g))"
   ]
  },
  {
   "cell_type": "code",
   "execution_count": null,
   "id": "50bf2c3c-fb93-40e6-b52c-8d3d7da71bc1",
   "metadata": {},
   "outputs": [],
   "source": [
    "#How many cancer types are there? or classes?"
   ]
  },
  {
   "cell_type": "code",
   "execution_count": 29,
   "id": "92a41087-07ea-4e46-96b5-62ab81009a08",
   "metadata": {},
   "outputs": [
    {
     "name": "stdout",
     "output_type": "stream",
     "text": [
      "Cancer_Type\n",
      "BRCA    300\n",
      "KIRC    146\n",
      "LUAD    141\n",
      "PRAD    136\n",
      "COAD     78\n",
      "Name: count, dtype: int64\n"
     ]
    }
   ],
   "source": [
    "print(dataframe['Cancer_Type'].value_counts())"
   ]
  },
  {
   "cell_type": "code",
   "execution_count": null,
   "id": "f27b5638-6247-417c-968e-df43d9d91a4d",
   "metadata": {},
   "outputs": [],
   "source": [
    "#Let's do some visualization, can we see a bar chart to display the class distribution?"
   ]
  },
  {
   "cell_type": "code",
   "execution_count": 31,
   "id": "e8fb64d2-e347-4566-ae0f-393ee48d4004",
   "metadata": {},
   "outputs": [
    {
     "data": {
      "text/plain": [
       "<Axes: xlabel='Cancer_Type'>"
      ]
     },
     "execution_count": 31,
     "metadata": {},
     "output_type": "execute_result"
    },
    {
     "data": {
      "image/png": "[encoded data removed]",
      "text/plain": [
       "<Figure size 640x480 with 1 Axes>"
      ]
     },
     "metadata": {},
     "output_type": "display_data"
    }
   ],
   "source": [
    "dataframe['Cancer_Type'].value_counts().plot.bar()"
   ]
  },
  {
   "cell_type": "markdown",
   "id": "6cc56fcc-fee9-4b84-8f34-0a0f6e8f77cd",
   "metadata": {},
   "source": [
    "### Awesome!! We were able to do a nice visualization for what the class distribution would look like in a bar chart"
   ]
  },
  {
   "cell_type": "code",
   "execution_count": null,
   "id": "e188c50f-b639-4626-b6af-9cce8aaec7fd",
   "metadata": {},
   "outputs": [],
   "source": [
    "#Now, we need to pre-process our data, and put it into the correct format before modelling so we can look at the data besst and most accurately"
   ]
  },
  {
   "cell_type": "code",
   "execution_count": null,
   "id": "0c1d838a-e37f-41b5-87dd-b7d0b6036418",
   "metadata": {},
   "outputs": [],
   "source": [
    "#To start, we can separate feature values from the class to satisfy scikit"
   ]
  },
  {
   "cell_type": "code",
   "execution_count": 35,
   "id": "dac747d4-f41a-4c12-ba8a-d85624558f90",
   "metadata": {},
   "outputs": [],
   "source": [
    "X=dataframe.iloc[:,0:-1]\n",
    "y=dataframe.iloc[:,-1]"
   ]
  },
  {
   "cell_type": "code",
   "execution_count": 37,
   "id": "4824eb5d-d139-4a57-87ab-1909ee643420",
   "metadata": {},
   "outputs": [
    {
     "data": {
      "text/plain": [
       "(801, 8000)"
      ]
     },
     "execution_count": 37,
     "metadata": {},
     "output_type": "execute_result"
    }
   ],
   "source": [
    "X.shape"
   ]
  },
  {
   "cell_type": "code",
   "execution_count": 39,
   "id": "91f7cb74-d468-459f-b9ca-f0849afdd75c",
   "metadata": {},
   "outputs": [
    {
     "data": {
      "text/plain": [
       "(801,)"
      ]
     },
     "execution_count": 39,
     "metadata": {},
     "output_type": "execute_result"
    }
   ],
   "source": [
    "y.shape"
   ]
  },
  {
   "cell_type": "code",
   "execution_count": null,
   "id": "c1ac25b8-b1f2-4881-89d5-7bf0c3644a20",
   "metadata": {},
   "outputs": [],
   "source": [
    "#When we work with machine learning (ML), we need to encode labels for our data, what does this mean? Well, ML models require input data to be in numeric forms, so we can encode and convert them to be numeric forms of data to conduct future analyses"
   ]
  },
  {
   "cell_type": "code",
   "execution_count": null,
   "id": "7e7e8f53-4dc3-4e3b-9666-edcac4eb767c",
   "metadata": {},
   "outputs": [],
   "source": [
    "#To encode values between 0 and n classes-1 using the labelencoder tool"
   ]
  },
  {
   "cell_type": "code",
   "execution_count": 41,
   "id": "f566a14c-eb0a-4f12-875f-837187e63185",
   "metadata": {
    "scrolled": true
   },
   "outputs": [],
   "source": [
    "label_encoder=LabelEncoder()\n",
    "label_encoder.fit(y)\n",
    "y_encoded=label_encoder.transform(y)\n",
    "labels=label_encoder.classes_\n",
    "classes=np.unique(y_encoded)"
   ]
  },
  {
   "cell_type": "code",
   "execution_count": 43,
   "id": "93fb3496-214e-4814-8db9-632ab4173b14",
   "metadata": {},
   "outputs": [
    {
     "data": {
      "text/plain": [
       "array(['BRCA', 'COAD', 'KIRC', 'LUAD', 'PRAD'], dtype=object)"
      ]
     },
     "execution_count": 43,
     "metadata": {},
     "output_type": "execute_result"
    }
   ],
   "source": [
    "labels"
   ]
  },
  {
   "cell_type": "code",
   "execution_count": 45,
   "id": "15d3b012-0153-4c3d-a627-fa47d9797bd1",
   "metadata": {},
   "outputs": [
    {
     "data": {
      "text/plain": [
       "array([0, 1, 2, 3, 4])"
      ]
     },
     "execution_count": 45,
     "metadata": {},
     "output_type": "execute_result"
    }
   ],
   "source": [
    "classes"
   ]
  },
  {
   "cell_type": "code",
   "execution_count": 47,
   "id": "0580365a-5043-499d-8d75-68d63ddd21b7",
   "metadata": {},
   "outputs": [],
   "source": [
    "#Now, we need to split the data into training and test subsets, because we need the ML to be able to identify iscriminatory paterns to make future predictions. Usually when ML models are generated, they need to be tested on practice data before we use real data"
   ]
  },
  {
   "cell_type": "code",
   "execution_count": null,
   "id": "4111508e-8f7e-46b7-a273-e099929f46cd",
   "metadata": {},
   "outputs": [],
   "source": [
    "#split data into training and test sets"
   ]
  },
  {
   "cell_type": "code",
   "execution_count": 50,
   "id": "fcbfe063-0535-44fc-9599-dad2da6a58b2",
   "metadata": {},
   "outputs": [],
   "source": [
    "X_train,X_test,y_train,y_test=train_test_split(X,y_encoded,test_size=0.2,random_state=42)"
   ]
  },
  {
   "cell_type": "code",
   "execution_count": null,
   "id": "20024067-6335-4d81-ad98-370017da554a",
   "metadata": {},
   "outputs": [],
   "source": [
    "#Now, let's visualize it in the data frame:"
   ]
  },
  {
   "cell_type": "code",
   "execution_count": 52,
   "id": "09885025-e18d-4e36-97f1-2a3f33bd722f",
   "metadata": {
    "scrolled": true
   },
   "outputs": [
    {
     "data": {
      "text/html": [
       "<div>\n",
       "<style scoped>\n",
       "    .dataframe tbody tr th:only-of-type {\n",
       "        vertical-align: middle;\n",
       "    }\n",
       "\n",
       "    .dataframe tbody tr th {\n",
       "        vertical-align: top;\n",
       "    }\n",
       "\n",
       "    .dataframe thead th {\n",
       "        text-align: right;\n",
       "    }\n",
       "</style>\n",
       "<table border=\"1\" class=\"dataframe\">\n",
       "  <thead>\n",
       "    <tr style=\"text-align: right;\">\n",
       "      <th></th>\n",
       "      <th>gene_1</th>\n",
       "      <th>gene_2</th>\n",
       "      <th>gene_3</th>\n",
       "      <th>gene_4</th>\n",
       "      <th>gene_5</th>\n",
       "      <th>gene_6</th>\n",
       "      <th>gene_7</th>\n",
       "      <th>gene_8</th>\n",
       "      <th>gene_9</th>\n",
       "      <th>gene_10</th>\n",
       "    </tr>\n",
       "  </thead>\n",
       "  <tbody>\n",
       "    <tr>\n",
       "      <th>count</th>\n",
       "      <td>801.000000</td>\n",
       "      <td>801.000000</td>\n",
       "      <td>801.000000</td>\n",
       "      <td>801.000000</td>\n",
       "      <td>801.000000</td>\n",
       "      <td>801.000000</td>\n",
       "      <td>801.000000</td>\n",
       "      <td>801.000000</td>\n",
       "      <td>801.000000</td>\n",
       "      <td>801.000000</td>\n",
       "    </tr>\n",
       "    <tr>\n",
       "      <th>mean</th>\n",
       "      <td>0.026642</td>\n",
       "      <td>0.231049</td>\n",
       "      <td>0.010844</td>\n",
       "      <td>2.405459</td>\n",
       "      <td>0.005799</td>\n",
       "      <td>0.065640</td>\n",
       "      <td>0.022036</td>\n",
       "      <td>0.028394</td>\n",
       "      <td>0.703998</td>\n",
       "      <td>1.916364</td>\n",
       "    </tr>\n",
       "    <tr>\n",
       "      <th>std</th>\n",
       "      <td>0.136850</td>\n",
       "      <td>0.656692</td>\n",
       "      <td>0.153859</td>\n",
       "      <td>0.797236</td>\n",
       "      <td>0.052265</td>\n",
       "      <td>0.213557</td>\n",
       "      <td>0.148917</td>\n",
       "      <td>0.161606</td>\n",
       "      <td>0.779321</td>\n",
       "      <td>0.877010</td>\n",
       "    </tr>\n",
       "    <tr>\n",
       "      <th>min</th>\n",
       "      <td>0.000000</td>\n",
       "      <td>0.000000</td>\n",
       "      <td>0.000000</td>\n",
       "      <td>0.000000</td>\n",
       "      <td>0.000000</td>\n",
       "      <td>0.000000</td>\n",
       "      <td>0.000000</td>\n",
       "      <td>0.000000</td>\n",
       "      <td>0.000000</td>\n",
       "      <td>0.000000</td>\n",
       "    </tr>\n",
       "    <tr>\n",
       "      <th>25%</th>\n",
       "      <td>0.000000</td>\n",
       "      <td>0.000000</td>\n",
       "      <td>0.000000</td>\n",
       "      <td>1.898595</td>\n",
       "      <td>0.000000</td>\n",
       "      <td>0.000000</td>\n",
       "      <td>0.000000</td>\n",
       "      <td>0.000000</td>\n",
       "      <td>0.000000</td>\n",
       "      <td>1.357214</td>\n",
       "    </tr>\n",
       "    <tr>\n",
       "      <th>50%</th>\n",
       "      <td>0.000000</td>\n",
       "      <td>0.000000</td>\n",
       "      <td>0.000000</td>\n",
       "      <td>2.358284</td>\n",
       "      <td>0.000000</td>\n",
       "      <td>0.000000</td>\n",
       "      <td>0.000000</td>\n",
       "      <td>0.000000</td>\n",
       "      <td>0.518031</td>\n",
       "      <td>1.877862</td>\n",
       "    </tr>\n",
       "    <tr>\n",
       "      <th>75%</th>\n",
       "      <td>0.000000</td>\n",
       "      <td>0.000000</td>\n",
       "      <td>0.000000</td>\n",
       "      <td>2.929355</td>\n",
       "      <td>0.000000</td>\n",
       "      <td>0.000000</td>\n",
       "      <td>0.000000</td>\n",
       "      <td>0.000000</td>\n",
       "      <td>1.123931</td>\n",
       "      <td>2.486792</td>\n",
       "    </tr>\n",
       "    <tr>\n",
       "      <th>max</th>\n",
       "      <td>1.482332</td>\n",
       "      <td>6.575004</td>\n",
       "      <td>3.778061</td>\n",
       "      <td>4.746646</td>\n",
       "      <td>0.570754</td>\n",
       "      <td>1.866275</td>\n",
       "      <td>2.169925</td>\n",
       "      <td>2.375957</td>\n",
       "      <td>4.541670</td>\n",
       "      <td>4.932231</td>\n",
       "    </tr>\n",
       "  </tbody>\n",
       "</table>\n",
       "</div>"
      ],
      "text/plain": [
       "           gene_1      gene_2      gene_3      gene_4      gene_5      gene_6  \\\n",
       "count  801.000000  801.000000  801.000000  801.000000  801.000000  801.000000   \n",
       "mean     0.026642    0.231049    0.010844    2.405459    0.005799    0.065640   \n",
       "std      0.136850    0.656692    0.153859    0.797236    0.052265    0.213557   \n",
       "min      0.000000    0.000000    0.000000    0.000000    0.000000    0.000000   \n",
       "25%      0.000000    0.000000    0.000000    1.898595    0.000000    0.000000   \n",
       "50%      0.000000    0.000000    0.000000    2.358284    0.000000    0.000000   \n",
       "75%      0.000000    0.000000    0.000000    2.929355    0.000000    0.000000   \n",
       "max      1.482332    6.575004    3.778061    4.746646    0.570754    1.866275   \n",
       "\n",
       "           gene_7      gene_8      gene_9     gene_10  \n",
       "count  801.000000  801.000000  801.000000  801.000000  \n",
       "mean     0.022036    0.028394    0.703998    1.916364  \n",
       "std      0.148917    0.161606    0.779321    0.877010  \n",
       "min      0.000000    0.000000    0.000000    0.000000  \n",
       "25%      0.000000    0.000000    0.000000    1.357214  \n",
       "50%      0.000000    0.000000    0.518031    1.877862  \n",
       "75%      0.000000    0.000000    1.123931    2.486792  \n",
       "max      2.169925    2.375957    4.541670    4.932231  "
      ]
     },
     "execution_count": 52,
     "metadata": {},
     "output_type": "execute_result"
    }
   ],
   "source": [
    "dataframe.iloc[:,0:10].describe()"
   ]
  },
  {
   "cell_type": "code",
   "execution_count": null,
   "id": "a124be2e-d8c4-4bef-91a6-a536cc2b1c98",
   "metadata": {},
   "outputs": [],
   "source": [
    "#Data normalization must be done to normalize the data to be within the same range and improve bias and ML model performance"
   ]
  },
  {
   "cell_type": "code",
   "execution_count": null,
   "id": "f508f7d1-ce6e-40ba-a74a-a36f8982f1f0",
   "metadata": {},
   "outputs": [],
   "source": [
    "#Let's scale the data between 0 and 1"
   ]
  },
  {
   "cell_type": "code",
   "execution_count": 54,
   "id": "13b75c35-0479-481a-b581-9beb5d2c5834",
   "metadata": {},
   "outputs": [],
   "source": [
    "min_max_scaler=MinMaxScaler()\n",
    "X_train_norm=min_max_scaler.fit_transform(X_train)\n",
    "X_test_norm=min_max_scaler.fit_transform(X_test)"
   ]
  },
  {
   "cell_type": "code",
   "execution_count": null,
   "id": "691b9cc9-fb68-4b92-949c-672e4c13d3df",
   "metadata": {},
   "outputs": [],
   "source": [
    "#Before you do ML, another preprocessing step to it is to do feature selection; feature selection is a method to pre-process the data and select relevant featurs for classiciation"
   ]
  },
  {
   "cell_type": "code",
   "execution_count": null,
   "id": "416d6ebc-7055-4171-81bf-646aeea08d15",
   "metadata": {},
   "outputs": [],
   "source": [
    "#For our purposes, let's do mutual information algorithm to compute the relevance of each feature with the stop n features to select for our future ML analyses"
   ]
  },
  {
   "cell_type": "code",
   "execution_count": null,
   "id": "af079772-3a36-49bb-8a53-b6252cdbd42c",
   "metadata": {},
   "outputs": [],
   "source": [
    "#We can do feature selection from mutual information"
   ]
  },
  {
   "cell_type": "code",
   "execution_count": 56,
   "id": "64fa69dd-4321-4b22-9b7e-f5253ce7075a",
   "metadata": {},
   "outputs": [],
   "source": [
    "MI=mutual_info_classif(X_train_norm,y_train)"
   ]
  },
  {
   "cell_type": "code",
   "execution_count": null,
   "id": "da1adace-f480-47f3-951c-c30f57ebc5e8",
   "metadata": {},
   "outputs": [],
   "source": [
    "#We can select the top n features and let's try to do it 300 (you can modify this number and see how the ML performance changes overtime"
   ]
  },
  {
   "cell_type": "code",
   "execution_count": 58,
   "id": "f908b2d4-efa2-4260-8941-8ad6110a00fa",
   "metadata": {},
   "outputs": [],
   "source": [
    "n_features=300\n",
    "selected_scores_indices=np.argsort(MI)[::-1][0:n_features]"
   ]
  },
  {
   "cell_type": "code",
   "execution_count": 60,
   "id": "316d98fa-5c65-4c44-a2e0-7b84f7764093",
   "metadata": {},
   "outputs": [],
   "source": [
    "X_train_selected=X_train_norm[:,selected_scores_indices]\n",
    "X_test_selected=X_test_norm[:,selected_scores_indices]"
   ]
  },
  {
   "cell_type": "code",
   "execution_count": 62,
   "id": "0489436c-b715-46f5-91bb-f4279f81e93f",
   "metadata": {},
   "outputs": [
    {
     "data": {
      "text/plain": [
       "(640, 300)"
      ]
     },
     "execution_count": 62,
     "metadata": {},
     "output_type": "execute_result"
    }
   ],
   "source": [
    "X_train_selected.shape"
   ]
  },
  {
   "cell_type": "code",
   "execution_count": 64,
   "id": "2cfe1320-0dc0-4148-8390-e6a02639fe79",
   "metadata": {},
   "outputs": [
    {
     "data": {
      "text/plain": [
       "(161, 300)"
      ]
     },
     "execution_count": 64,
     "metadata": {},
     "output_type": "execute_result"
    }
   ],
   "source": [
    "X_test_selected.shape"
   ]
  },
  {
   "cell_type": "code",
   "execution_count": null,
   "id": "150af1c5-bd39-46fd-88e6-b9b8a0d8e535",
   "metadata": {},
   "outputs": [],
   "source": [
    "#Now we will do the classification, which is the training and testing of the ML model"
   ]
  },
  {
   "cell_type": "code",
   "execution_count": null,
   "id": "d649ca9f-bb17-4119-a236-aa5759580c94",
   "metadata": {},
   "outputs": [],
   "source": [
    "#Here, we will use the random forest classifier, which can be used for multiclass and high dimensional data"
   ]
  },
  {
   "cell_type": "code",
   "execution_count": null,
   "id": "ef28a812-833e-4047-89ad-1eb13a3372f6",
   "metadata": {},
   "outputs": [],
   "source": [
    "#Via model training, we can allow the ML model to learn from the data and identify similar patterns to predict the outcomes of the data it has never sen before; essentially, we are articficially training the model to detect specific patterns"
   ]
  },
  {
   "cell_type": "code",
   "execution_count": null,
   "id": "e40d257d-a9e9-4204-9f10-e74d5eda47b5",
   "metadata": {},
   "outputs": [],
   "source": [
    "#Let's use random forest classifier and teach the model to predict each class against the other"
   ]
  },
  {
   "cell_type": "code",
   "execution_count": 66,
   "id": "0029f17b-2c36-4634-95ed-db961bd7bfcc",
   "metadata": {},
   "outputs": [],
   "source": [
    "RF=OneVsRestClassifier(RandomForestClassifier(max_features=0.2))\n",
    "RF.fit(X_train_selected,y_train)\n",
    "y_pred =RF.predict(X_test_selected)\n",
    "pred_prob = RF.predict_proba(X_test_selected)"
   ]
  },
  {
   "cell_type": "code",
   "execution_count": null,
   "id": "a3181d1a-ce87-4cda-a57f-906c1d405e58",
   "metadata": {},
   "outputs": [],
   "source": [
    "#Now, how well did we train out model? we need to evalute the model and see how good it learned the artifiical intelligence we gave it"
   ]
  },
  {
   "cell_type": "code",
   "execution_count": null,
   "id": "f444ca22-99f6-45b7-a8d6-ab043ffdc0e5",
   "metadata": {},
   "outputs": [],
   "source": [
    "#We will test it using the following metrics: accuracy, precision, recall, f1 score, confusion matrix, and ROC curve"
   ]
  },
  {
   "cell_type": "code",
   "execution_count": null,
   "id": "dcce405b-5dc0-4a9b-b8e9-41bbe2e5d48b",
   "metadata": {},
   "outputs": [],
   "source": [
    "#Let's test all these and see what we get"
   ]
  },
  {
   "cell_type": "code",
   "execution_count": 68,
   "id": "d0123bc2-e738-4704-b6fa-2820f5015b29",
   "metadata": {},
   "outputs": [
    {
     "name": "stdout",
     "output_type": "stream",
     "text": [
      "accuracy:0.9708\n",
      "precision:0.9815\n",
      "recall:0.9814\n",
      "f1score:0.9812\n",
      "\n",
      "\n",
      "classification report\n",
      "\n",
      "\n",
      "              precision    recall  f1-score   support\n",
      "\n",
      "        BRCA       0.97      1.00      0.98        60\n",
      "        COAD       1.00      0.94      0.97        16\n",
      "        KIRC       1.00      1.00      1.00        28\n",
      "        LUAD       0.96      0.92      0.94        24\n",
      "        PRAD       1.00      1.00      1.00        33\n",
      "\n",
      "    accuracy                           0.98       161\n",
      "   macro avg       0.98      0.97      0.98       161\n",
      "weighted avg       0.98      0.98      0.98       161\n",
      "\n"
     ]
    }
   ],
   "source": [
    "accuracy=np.round(balanced_accuracy_score(y_test,y_pred),4)\n",
    "print('accuracy:%0.4f'%accuracy)\n",
    "precision=np.round(precision_score(y_test,y_pred,average = 'weighted'),4)\n",
    "print('precision:%0.4f'%precision)\n",
    "recall=np.round(recall_score(y_test,y_pred,average = 'weighted'),4)\n",
    "print('recall:%0.4f'%recall)\n",
    "f1score=np.round(f1_score(y_test,y_pred,average = 'weighted'),4)\n",
    "print('f1score:%0.4f'%f1score)\n",
    "report=classification_report(y_test,y_pred, target_names=labels)\n",
    "print('\\n')\n",
    "print('classification report\\n\\n')\n",
    "print(report)"
   ]
  },
  {
   "cell_type": "code",
   "execution_count": null,
   "id": "d58d9b38-d396-4316-9cf6-ac091c05e25c",
   "metadata": {},
   "outputs": [],
   "source": [
    "#Now, separate for the confusion matrix (visualized by seaborn)"
   ]
  },
  {
   "cell_type": "code",
   "execution_count": 80,
   "id": "0e6945eb-3753-4b31-affa-39665afb4297",
   "metadata": {},
   "outputs": [],
   "source": [
    "cm=confusion_matrix(y_test,y_pred)\n",
    "cm_df=pd.DataFrame(cm,index=labels,columns=labels)"
   ]
  },
  {
   "cell_type": "code",
   "execution_count": 78,
   "id": "d00d0736-9b00-49d3-9754-5bc7e3be0a7c",
   "metadata": {},
   "outputs": [
    {
     "data": {
      "text/html": [
       "<div>\n",
       "<style scoped>\n",
       "    .dataframe tbody tr th:only-of-type {\n",
       "        vertical-align: middle;\n",
       "    }\n",
       "\n",
       "    .dataframe tbody tr th {\n",
       "        vertical-align: top;\n",
       "    }\n",
       "\n",
       "    .dataframe thead th {\n",
       "        text-align: right;\n",
       "    }\n",
       "</style>\n",
       "<table border=\"1\" class=\"dataframe\">\n",
       "  <thead>\n",
       "    <tr style=\"text-align: right;\">\n",
       "      <th></th>\n",
       "      <th>BRCA</th>\n",
       "      <th>COAD</th>\n",
       "      <th>KIRC</th>\n",
       "      <th>LUAD</th>\n",
       "      <th>PRAD</th>\n",
       "    </tr>\n",
       "  </thead>\n",
       "  <tbody>\n",
       "    <tr>\n",
       "      <th>BRCA</th>\n",
       "      <td>60</td>\n",
       "      <td>0</td>\n",
       "      <td>0</td>\n",
       "      <td>0</td>\n",
       "      <td>0</td>\n",
       "    </tr>\n",
       "    <tr>\n",
       "      <th>COAD</th>\n",
       "      <td>0</td>\n",
       "      <td>15</td>\n",
       "      <td>0</td>\n",
       "      <td>1</td>\n",
       "      <td>0</td>\n",
       "    </tr>\n",
       "    <tr>\n",
       "      <th>KIRC</th>\n",
       "      <td>0</td>\n",
       "      <td>0</td>\n",
       "      <td>28</td>\n",
       "      <td>0</td>\n",
       "      <td>0</td>\n",
       "    </tr>\n",
       "    <tr>\n",
       "      <th>LUAD</th>\n",
       "      <td>2</td>\n",
       "      <td>0</td>\n",
       "      <td>0</td>\n",
       "      <td>22</td>\n",
       "      <td>0</td>\n",
       "    </tr>\n",
       "    <tr>\n",
       "      <th>PRAD</th>\n",
       "      <td>0</td>\n",
       "      <td>0</td>\n",
       "      <td>0</td>\n",
       "      <td>0</td>\n",
       "      <td>33</td>\n",
       "    </tr>\n",
       "  </tbody>\n",
       "</table>\n",
       "</div>"
      ],
      "text/plain": [
       "      BRCA  COAD  KIRC  LUAD  PRAD\n",
       "BRCA    60     0     0     0     0\n",
       "COAD     0    15     0     1     0\n",
       "KIRC     0     0    28     0     0\n",
       "LUAD     2     0     0    22     0\n",
       "PRAD     0     0     0     0    33"
      ]
     },
     "execution_count": 78,
     "metadata": {},
     "output_type": "execute_result"
    }
   ],
   "source": [
    "cm_df"
   ]
  },
  {
   "cell_type": "code",
   "execution_count": null,
   "id": "122f5339-6de4-48e5-a8b6-dd821b2bac7c",
   "metadata": {},
   "outputs": [],
   "source": [
    "#visualize via seaborn"
   ]
  },
  {
   "cell_type": "code",
   "execution_count": 74,
   "id": "e6d81bd9-26a2-450a-948c-b61118c92955",
   "metadata": {
    "scrolled": true
   },
   "outputs": [
    {
     "data": {
      "text/plain": [
       "Text(50.722222222222214, 0.5, 'True Labels')"
      ]
     },
     "execution_count": 74,
     "metadata": {},
     "output_type": "execute_result"
    },
    {
     "data": {
      "image/png": "[encoded data removed]",
      "text/plain": [
       "<Figure size 640x480 with 2 Axes>"
      ]
     },
     "metadata": {},
     "output_type": "display_data"
    }
   ],
   "source": [
    "sns.heatmap(cm_df,annot=True,cmap='Blues')\n",
    "plt.xlabel('Predicted Labels')\n",
    "plt.ylabel('True Labels')"
   ]
  },
  {
   "cell_type": "code",
   "execution_count": null,
   "id": "ec539f23-c896-4b14-9992-b8c86a2cf46e",
   "metadata": {},
   "outputs": [],
   "source": [
    "#visualize matrix directly"
   ]
  },
  {
   "cell_type": "code",
   "execution_count": 86,
   "id": "6296161c-e46b-4a19-a91d-21e076fee267",
   "metadata": {},
   "outputs": [
    {
     "data": {
      "image/png": "[encoded data removed]",
      "text/plain": [
       "<Figure size 640x480 with 2 Axes>"
      ]
     },
     "metadata": {},
     "output_type": "display_data"
    }
   ],
   "source": [
    "from sklearn.metrics import ConfusionMatrixDisplay\n",
    "\n",
    "disp = ConfusionMatrixDisplay.from_estimator(\n",
    "    estimator=RF,  # Replace with your trained model\n",
    "    X=X_test_selected,  # Test data\n",
    "    y=y_test,  # True labels\n",
    "    display_labels=labels,\n",
    "    cmap='Blues',\n",
    "    xticks_rotation='vertical'\n",
    ")"
   ]
  },
  {
   "cell_type": "code",
   "execution_count": 96,
   "id": "20a71a9f-2c9d-4a0b-9a56-3f900c73da37",
   "metadata": {},
   "outputs": [],
   "source": [
    "#now, let's play around with ROC curves and generate 1 for each class\n",
    "#We will have to binarize the y_test labels because the probabilities(pred_prob) are calculated for each each class and need to match the formatting"
   ]
  },
  {
   "cell_type": "code",
   "execution_count": 102,
   "id": "039f371c-c24f-4956-ae44-ba6b26712e71",
   "metadata": {},
   "outputs": [],
   "source": [
    "y_test_binarized=label_binarize(y_test,classes=classes)    "
   ]
  },
  {
   "cell_type": "code",
   "execution_count": 106,
   "id": "80958531-be3c-430a-9c34-1b71fc620ff5",
   "metadata": {},
   "outputs": [],
   "source": [
    "from sklearn.metrics import roc_curve, auc"
   ]
  },
  {
   "cell_type": "code",
   "execution_count": 110,
   "id": "26f00dc3-6f16-4d57-83db-509a4e837afb",
   "metadata": {},
   "outputs": [
    {
     "data": {
      "image/png": "[encoded data removed]",
      "text/plain": [
       "<Figure size 640x480 with 1 Axes>"
      ]
     },
     "metadata": {},
     "output_type": "display_data"
    }
   ],
   "source": [
    "fpr = {}\n",
    "tpr = {}\n",
    "thresh ={}\n",
    "roc_auc = dict()\n",
    "\n",
    "n_class = classes.shape[0]\n",
    "\n",
    "for i in range(n_class):    \n",
    "    fpr[i], tpr[i], thresh[i] = roc_curve(y_test_binarized[:,i], pred_prob[:,i])\n",
    "    roc_auc[i] = auc(fpr[i], tpr[i])\n",
    "\n",
    "    plt.plot(fpr[i], tpr[i], linestyle='--', \n",
    "             label='%s vs Rest (AUC=%0.2f)'%(labels[i],roc_auc[i]))\n",
    "\n",
    "plt.plot([0,1],[0,1],'b--')\n",
    "plt.xlim([0,1])\n",
    "plt.ylim([0,1.05])\n",
    "plt.title('Multiclass ROC curve')\n",
    "plt.xlabel('False Positive Rate')\n",
    "plt.ylabel('True Positive rate')\n",
    "plt.legend(loc='lower right')\n",
    "plt.show()"
   ]
  },
  {
   "cell_type": "code",
   "execution_count": null,
   "id": "7e9b1808-4849-4909-acc0-d94b3bf99195",
   "metadata": {},
   "outputs": [],
   "source": []
  }
 ],
 "metadata": {
  "kernelspec": {
   "display_name": "Python 3 (ipykernel)",
   "language": "python",
   "name": "python3"
  },
  "language_info": {
   "codemirror_mode": {
    "name": "ipython",
    "version": 3
   },
   "file_extension": ".py",
   "mimetype": "text/x-python",
   "name": "python",
   "nbconvert_exporter": "python",
   "pygments_lexer": "ipython3",
   "version": "3.12.4"
  }
 },
 "nbformat": 4,
 "nbformat_minor": 5
}
